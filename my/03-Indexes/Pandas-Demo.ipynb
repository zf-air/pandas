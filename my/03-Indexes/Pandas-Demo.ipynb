{
 "cells": [
  {
   "cell_type": "code",
   "execution_count": 1,
   "metadata": {
    "ExecuteTime": {
     "end_time": "2020-07-12T08:47:35.916658Z",
     "start_time": "2020-07-12T08:47:35.659368Z"
    }
   },
   "outputs": [],
   "source": [
    "import pandas as pd"
   ]
  },
  {
   "cell_type": "markdown",
   "metadata": {},
   "source": [
    "#### 在加载文件时就初始化参数，设定列索引"
   ]
  },
  {
   "cell_type": "code",
   "execution_count": 2,
   "metadata": {
    "ExecuteTime": {
     "end_time": "2020-07-12T08:47:37.012798Z",
     "start_time": "2020-07-12T08:47:35.918652Z"
    }
   },
   "outputs": [],
   "source": [
    "df = pd.read_csv('E:/GitProjects/pandas/data/survey_results_public.csv', index_col='Respondent')\n",
    "schema_df = pd.read_csv('E:/GitProjects/pandas/data/survey_results_schema.csv', index_col='Column')"
   ]
  },
  {
   "cell_type": "code",
   "execution_count": 3,
   "metadata": {
    "ExecuteTime": {
     "end_time": "2020-07-12T08:47:37.017786Z",
     "start_time": "2020-07-12T08:47:37.014793Z"
    }
   },
   "outputs": [],
   "source": [
    "# pd.set_option('display.max_columns', 85)\n",
    "# pd.set_option('display.max_rows', 85)"
   ]
  },
  {
   "cell_type": "code",
   "execution_count": 4,
   "metadata": {
    "ExecuteTime": {
     "end_time": "2020-07-12T08:47:37.050712Z",
     "start_time": "2020-07-12T08:47:37.019780Z"
    },
    "scrolled": false
   },
   "outputs": [
    {
     "output_type": "execute_result",
     "data": {
      "text/plain": "                                                   MainBranch Hobbyist   Age  \\\nRespondent                                                                     \n1                              I am a developer by profession      Yes   NaN   \n2                              I am a developer by profession       No   NaN   \n3                                 I code primarily as a hobby      Yes   NaN   \n4                              I am a developer by profession      Yes  25.0   \n5           I used to be a developer by profession, but no...      Yes  31.0   \n\n           Age1stCode CompFreq  CompTotal  ConvertedComp             Country  \\\nRespondent                                                                     \n1                  13  Monthly        NaN            NaN             Germany   \n2                  19      NaN        NaN            NaN      United Kingdom   \n3                  15      NaN        NaN            NaN  Russian Federation   \n4                  18      NaN        NaN            NaN             Albania   \n5                  16      NaN        NaN            NaN       United States   \n\n              CurrencyDesc CurrencySymbol  ...                  SurveyEase  \\\nRespondent                                 ...                               \n1            European Euro            EUR  ...  Neither easy nor difficult   \n2           Pound sterling            GBP  ...                         NaN   \n3                      NaN            NaN  ...  Neither easy nor difficult   \n4             Albanian lek            ALL  ...                         NaN   \n5                      NaN            NaN  ...                        Easy   \n\n                     SurveyLength Trans  \\\nRespondent                                \n1           Appropriate in length    No   \n2                             NaN   NaN   \n3           Appropriate in length   NaN   \n4                             NaN    No   \n5                       Too short    No   \n\n                                               UndergradMajor  \\\nRespondent                                                      \n1           Computer science, computer engineering, or sof...   \n2           Computer science, computer engineering, or sof...   \n3                                                         NaN   \n4           Computer science, computer engineering, or sof...   \n5           Computer science, computer engineering, or sof...   \n\n           WebframeDesireNextYear    WebframeWorkedWith  \\\nRespondent                                                \n1                    ASP.NET Core  ASP.NET;ASP.NET Core   \n2                             NaN                   NaN   \n3                             NaN                   NaN   \n4                             NaN                   NaN   \n5            Django;Ruby on Rails         Ruby on Rails   \n\n                                       WelcomeChange WorkWeekHrs YearsCode  \\\nRespondent                                                                   \n1            Just as welcome now as I felt last year        50.0        36   \n2           Somewhat more welcome now than last year         NaN         7   \n3           Somewhat more welcome now than last year         NaN         4   \n4           Somewhat less welcome now than last year        40.0         7   \n5            Just as welcome now as I felt last year         NaN        15   \n\n           YearsCodePro  \nRespondent               \n1                    27  \n2                     4  \n3                   NaN  \n4                     4  \n5                     8  \n\n[5 rows x 60 columns]",
      "text/html": "<div>\n<style scoped>\n    .dataframe tbody tr th:only-of-type {\n        vertical-align: middle;\n    }\n\n    .dataframe tbody tr th {\n        vertical-align: top;\n    }\n\n    .dataframe thead th {\n        text-align: right;\n    }\n</style>\n<table border=\"1\" class=\"dataframe\">\n  <thead>\n    <tr style=\"text-align: right;\">\n      <th></th>\n      <th>MainBranch</th>\n      <th>Hobbyist</th>\n      <th>Age</th>\n      <th>Age1stCode</th>\n      <th>CompFreq</th>\n      <th>CompTotal</th>\n      <th>ConvertedComp</th>\n      <th>Country</th>\n      <th>CurrencyDesc</th>\n      <th>CurrencySymbol</th>\n      <th>...</th>\n      <th>SurveyEase</th>\n      <th>SurveyLength</th>\n      <th>Trans</th>\n      <th>UndergradMajor</th>\n      <th>WebframeDesireNextYear</th>\n      <th>WebframeWorkedWith</th>\n      <th>WelcomeChange</th>\n      <th>WorkWeekHrs</th>\n      <th>YearsCode</th>\n      <th>YearsCodePro</th>\n    </tr>\n    <tr>\n      <th>Respondent</th>\n      <th></th>\n      <th></th>\n      <th></th>\n      <th></th>\n      <th></th>\n      <th></th>\n      <th></th>\n      <th></th>\n      <th></th>\n      <th></th>\n      <th></th>\n      <th></th>\n      <th></th>\n      <th></th>\n      <th></th>\n      <th></th>\n      <th></th>\n      <th></th>\n      <th></th>\n      <th></th>\n      <th></th>\n    </tr>\n  </thead>\n  <tbody>\n    <tr>\n      <th>1</th>\n      <td>I am a developer by profession</td>\n      <td>Yes</td>\n      <td>NaN</td>\n      <td>13</td>\n      <td>Monthly</td>\n      <td>NaN</td>\n      <td>NaN</td>\n      <td>Germany</td>\n      <td>European Euro</td>\n      <td>EUR</td>\n      <td>...</td>\n      <td>Neither easy nor difficult</td>\n      <td>Appropriate in length</td>\n      <td>No</td>\n      <td>Computer science, computer engineering, or sof...</td>\n      <td>ASP.NET Core</td>\n      <td>ASP.NET;ASP.NET Core</td>\n      <td>Just as welcome now as I felt last year</td>\n      <td>50.0</td>\n      <td>36</td>\n      <td>27</td>\n    </tr>\n    <tr>\n      <th>2</th>\n      <td>I am a developer by profession</td>\n      <td>No</td>\n      <td>NaN</td>\n      <td>19</td>\n      <td>NaN</td>\n      <td>NaN</td>\n      <td>NaN</td>\n      <td>United Kingdom</td>\n      <td>Pound sterling</td>\n      <td>GBP</td>\n      <td>...</td>\n      <td>NaN</td>\n      <td>NaN</td>\n      <td>NaN</td>\n      <td>Computer science, computer engineering, or sof...</td>\n      <td>NaN</td>\n      <td>NaN</td>\n      <td>Somewhat more welcome now than last year</td>\n      <td>NaN</td>\n      <td>7</td>\n      <td>4</td>\n    </tr>\n    <tr>\n      <th>3</th>\n      <td>I code primarily as a hobby</td>\n      <td>Yes</td>\n      <td>NaN</td>\n      <td>15</td>\n      <td>NaN</td>\n      <td>NaN</td>\n      <td>NaN</td>\n      <td>Russian Federation</td>\n      <td>NaN</td>\n      <td>NaN</td>\n      <td>...</td>\n      <td>Neither easy nor difficult</td>\n      <td>Appropriate in length</td>\n      <td>NaN</td>\n      <td>NaN</td>\n      <td>NaN</td>\n      <td>NaN</td>\n      <td>Somewhat more welcome now than last year</td>\n      <td>NaN</td>\n      <td>4</td>\n      <td>NaN</td>\n    </tr>\n    <tr>\n      <th>4</th>\n      <td>I am a developer by profession</td>\n      <td>Yes</td>\n      <td>25.0</td>\n      <td>18</td>\n      <td>NaN</td>\n      <td>NaN</td>\n      <td>NaN</td>\n      <td>Albania</td>\n      <td>Albanian lek</td>\n      <td>ALL</td>\n      <td>...</td>\n      <td>NaN</td>\n      <td>NaN</td>\n      <td>No</td>\n      <td>Computer science, computer engineering, or sof...</td>\n      <td>NaN</td>\n      <td>NaN</td>\n      <td>Somewhat less welcome now than last year</td>\n      <td>40.0</td>\n      <td>7</td>\n      <td>4</td>\n    </tr>\n    <tr>\n      <th>5</th>\n      <td>I used to be a developer by profession, but no...</td>\n      <td>Yes</td>\n      <td>31.0</td>\n      <td>16</td>\n      <td>NaN</td>\n      <td>NaN</td>\n      <td>NaN</td>\n      <td>United States</td>\n      <td>NaN</td>\n      <td>NaN</td>\n      <td>...</td>\n      <td>Easy</td>\n      <td>Too short</td>\n      <td>No</td>\n      <td>Computer science, computer engineering, or sof...</td>\n      <td>Django;Ruby on Rails</td>\n      <td>Ruby on Rails</td>\n      <td>Just as welcome now as I felt last year</td>\n      <td>NaN</td>\n      <td>15</td>\n      <td>8</td>\n    </tr>\n  </tbody>\n</table>\n<p>5 rows × 60 columns</p>\n</div>"
     },
     "metadata": {},
     "execution_count": 4
    }
   ],
   "source": [
    "df.head()"
   ]
  },
  {
   "cell_type": "code",
   "execution_count": 5,
   "metadata": {
    "ExecuteTime": {
     "end_time": "2020-07-12T08:47:37.062708Z",
     "start_time": "2020-07-12T08:47:37.052693Z"
    }
   },
   "outputs": [
    {
     "output_type": "execute_result",
     "data": {
      "text/plain": "                                                         QuestionText\nColumn                                                               \nRespondent          Randomized respondent ID number (not in order ...\nMainBranch          Which of the following options best describes ...\nHobbyist                                      Do you code as a hobby?\nAge                 What is your age (in years)? If you prefer not...\nAge1stCode          At what age did you write your first line of c...\n...                                                               ...\nWebframeWorkedWith  Which web frameworks have you done extensive d...\nWelcomeChange       Compared to last year, how welcome do you feel...\nWorkWeekHrs         On average, how many hours per week do you wor...\nYearsCode           Including any education, how many years have y...\nYearsCodePro        NOT including education, how many years have y...\n\n[61 rows x 1 columns]",
      "text/html": "<div>\n<style scoped>\n    .dataframe tbody tr th:only-of-type {\n        vertical-align: middle;\n    }\n\n    .dataframe tbody tr th {\n        vertical-align: top;\n    }\n\n    .dataframe thead th {\n        text-align: right;\n    }\n</style>\n<table border=\"1\" class=\"dataframe\">\n  <thead>\n    <tr style=\"text-align: right;\">\n      <th></th>\n      <th>QuestionText</th>\n    </tr>\n    <tr>\n      <th>Column</th>\n      <th></th>\n    </tr>\n  </thead>\n  <tbody>\n    <tr>\n      <th>Respondent</th>\n      <td>Randomized respondent ID number (not in order ...</td>\n    </tr>\n    <tr>\n      <th>MainBranch</th>\n      <td>Which of the following options best describes ...</td>\n    </tr>\n    <tr>\n      <th>Hobbyist</th>\n      <td>Do you code as a hobby?</td>\n    </tr>\n    <tr>\n      <th>Age</th>\n      <td>What is your age (in years)? If you prefer not...</td>\n    </tr>\n    <tr>\n      <th>Age1stCode</th>\n      <td>At what age did you write your first line of c...</td>\n    </tr>\n    <tr>\n      <th>...</th>\n      <td>...</td>\n    </tr>\n    <tr>\n      <th>WebframeWorkedWith</th>\n      <td>Which web frameworks have you done extensive d...</td>\n    </tr>\n    <tr>\n      <th>WelcomeChange</th>\n      <td>Compared to last year, how welcome do you feel...</td>\n    </tr>\n    <tr>\n      <th>WorkWeekHrs</th>\n      <td>On average, how many hours per week do you wor...</td>\n    </tr>\n    <tr>\n      <th>YearsCode</th>\n      <td>Including any education, how many years have y...</td>\n    </tr>\n    <tr>\n      <th>YearsCodePro</th>\n      <td>NOT including education, how many years have y...</td>\n    </tr>\n  </tbody>\n</table>\n<p>61 rows × 1 columns</p>\n</div>"
     },
     "metadata": {},
     "execution_count": 5
    }
   ],
   "source": [
    "schema_df"
   ]
  },
  {
   "cell_type": "code",
   "execution_count": 6,
   "metadata": {
    "ExecuteTime": {
     "end_time": "2020-07-12T08:47:37.068654Z",
     "start_time": "2020-07-12T08:47:37.064663Z"
    }
   },
   "outputs": [
    {
     "output_type": "execute_result",
     "data": {
      "text/plain": "'Including any education, how many years have you been coding in total?'"
     },
     "metadata": {},
     "execution_count": 6
    }
   ],
   "source": [
    "schema_df.loc['YearsCode', 'QuestionText']"
   ]
  },
  {
   "cell_type": "markdown",
   "metadata": {},
   "source": [
    "#### inplace=True 表示永久排序"
   ]
  },
  {
   "cell_type": "code",
   "execution_count": 7,
   "metadata": {
    "ExecuteTime": {
     "end_time": "2020-07-12T08:48:04.260320Z",
     "start_time": "2020-07-12T08:48:04.255307Z"
    }
   },
   "outputs": [],
   "source": [
    "schema_df.sort_index(inplace=True)"
   ]
  },
  {
   "cell_type": "code",
   "execution_count": 8,
   "metadata": {
    "ExecuteTime": {
     "end_time": "2020-07-12T08:48:06.869618Z",
     "start_time": "2020-07-12T08:48:06.857650Z"
    }
   },
   "outputs": [
    {
     "output_type": "execute_result",
     "data": {
      "text/plain": "                                                         QuestionText\nColumn                                                               \nAge                 What is your age (in years)? If you prefer not...\nAge1stCode          At what age did you write your first line of c...\nCompFreq             Is that compensation weekly, monthly, or yearly?\nCompTotal           What is your current total compensation (salar...\nConvertedComp       Salary converted to annual USD salaries using ...\n...                                                               ...\nWebframeWorkedWith  Which web frameworks have you done extensive d...\nWelcomeChange       Compared to last year, how welcome do you feel...\nWorkWeekHrs         On average, how many hours per week do you wor...\nYearsCode           Including any education, how many years have y...\nYearsCodePro        NOT including education, how many years have y...\n\n[61 rows x 1 columns]",
      "text/html": "<div>\n<style scoped>\n    .dataframe tbody tr th:only-of-type {\n        vertical-align: middle;\n    }\n\n    .dataframe tbody tr th {\n        vertical-align: top;\n    }\n\n    .dataframe thead th {\n        text-align: right;\n    }\n</style>\n<table border=\"1\" class=\"dataframe\">\n  <thead>\n    <tr style=\"text-align: right;\">\n      <th></th>\n      <th>QuestionText</th>\n    </tr>\n    <tr>\n      <th>Column</th>\n      <th></th>\n    </tr>\n  </thead>\n  <tbody>\n    <tr>\n      <th>Age</th>\n      <td>What is your age (in years)? If you prefer not...</td>\n    </tr>\n    <tr>\n      <th>Age1stCode</th>\n      <td>At what age did you write your first line of c...</td>\n    </tr>\n    <tr>\n      <th>CompFreq</th>\n      <td>Is that compensation weekly, monthly, or yearly?</td>\n    </tr>\n    <tr>\n      <th>CompTotal</th>\n      <td>What is your current total compensation (salar...</td>\n    </tr>\n    <tr>\n      <th>ConvertedComp</th>\n      <td>Salary converted to annual USD salaries using ...</td>\n    </tr>\n    <tr>\n      <th>...</th>\n      <td>...</td>\n    </tr>\n    <tr>\n      <th>WebframeWorkedWith</th>\n      <td>Which web frameworks have you done extensive d...</td>\n    </tr>\n    <tr>\n      <th>WelcomeChange</th>\n      <td>Compared to last year, how welcome do you feel...</td>\n    </tr>\n    <tr>\n      <th>WorkWeekHrs</th>\n      <td>On average, how many hours per week do you wor...</td>\n    </tr>\n    <tr>\n      <th>YearsCode</th>\n      <td>Including any education, how many years have y...</td>\n    </tr>\n    <tr>\n      <th>YearsCodePro</th>\n      <td>NOT including education, how many years have y...</td>\n    </tr>\n  </tbody>\n</table>\n<p>61 rows × 1 columns</p>\n</div>"
     },
     "metadata": {},
     "execution_count": 8
    }
   ],
   "source": [
    "schema_df"
   ]
  },
  {
   "cell_type": "markdown",
   "metadata": {},
   "source": [
    "#### 逆序排序,ascending=True 默认正序，False为逆序"
   ]
  },
  {
   "cell_type": "code",
   "execution_count": 9,
   "metadata": {
    "ExecuteTime": {
     "end_time": "2020-07-12T08:48:09.930872Z",
     "start_time": "2020-07-12T08:48:09.921942Z"
    }
   },
   "outputs": [
    {
     "output_type": "execute_result",
     "data": {
      "text/plain": "                                                         QuestionText\nColumn                                                               \nYearsCodePro        NOT including education, how many years have y...\nYearsCode           Including any education, how many years have y...\nWorkWeekHrs         On average, how many hours per week do you wor...\nWelcomeChange       Compared to last year, how welcome do you feel...\nWebframeWorkedWith  Which web frameworks have you done extensive d...\n...                                                               ...\nConvertedComp       Salary converted to annual USD salaries using ...\nCompTotal           What is your current total compensation (salar...\nCompFreq             Is that compensation weekly, monthly, or yearly?\nAge1stCode          At what age did you write your first line of c...\nAge                 What is your age (in years)? If you prefer not...\n\n[61 rows x 1 columns]",
      "text/html": "<div>\n<style scoped>\n    .dataframe tbody tr th:only-of-type {\n        vertical-align: middle;\n    }\n\n    .dataframe tbody tr th {\n        vertical-align: top;\n    }\n\n    .dataframe thead th {\n        text-align: right;\n    }\n</style>\n<table border=\"1\" class=\"dataframe\">\n  <thead>\n    <tr style=\"text-align: right;\">\n      <th></th>\n      <th>QuestionText</th>\n    </tr>\n    <tr>\n      <th>Column</th>\n      <th></th>\n    </tr>\n  </thead>\n  <tbody>\n    <tr>\n      <th>YearsCodePro</th>\n      <td>NOT including education, how many years have y...</td>\n    </tr>\n    <tr>\n      <th>YearsCode</th>\n      <td>Including any education, how many years have y...</td>\n    </tr>\n    <tr>\n      <th>WorkWeekHrs</th>\n      <td>On average, how many hours per week do you wor...</td>\n    </tr>\n    <tr>\n      <th>WelcomeChange</th>\n      <td>Compared to last year, how welcome do you feel...</td>\n    </tr>\n    <tr>\n      <th>WebframeWorkedWith</th>\n      <td>Which web frameworks have you done extensive d...</td>\n    </tr>\n    <tr>\n      <th>...</th>\n      <td>...</td>\n    </tr>\n    <tr>\n      <th>ConvertedComp</th>\n      <td>Salary converted to annual USD salaries using ...</td>\n    </tr>\n    <tr>\n      <th>CompTotal</th>\n      <td>What is your current total compensation (salar...</td>\n    </tr>\n    <tr>\n      <th>CompFreq</th>\n      <td>Is that compensation weekly, monthly, or yearly?</td>\n    </tr>\n    <tr>\n      <th>Age1stCode</th>\n      <td>At what age did you write your first line of c...</td>\n    </tr>\n    <tr>\n      <th>Age</th>\n      <td>What is your age (in years)? If you prefer not...</td>\n    </tr>\n  </tbody>\n</table>\n<p>61 rows × 1 columns</p>\n</div>"
     },
     "metadata": {},
     "execution_count": 9
    }
   ],
   "source": [
    "schema_df.sort_index(ascending=False)"
   ]
  },
  {
   "cell_type": "code",
   "execution_count": 14,
   "metadata": {},
   "outputs": [],
   "source": [
    "schema_df.sort_values(ascending=False,by='QuestionText',inplace=True)"
   ]
  },
  {
   "cell_type": "code",
   "execution_count": 16,
   "metadata": {},
   "outputs": [
    {
     "output_type": "execute_result",
     "data": {
      "text/plain": "                                                             QuestionText\nColumn                                                                   \nNEWPurpleLink           You search for a coding solution online and th...\nWebframeWorkedWith      Which web frameworks have you done extensive d...\nWebframeDesireNextYear  Which web frameworks have you done extensive d...\nLanguageWorkedWith      Which programming, scripting, and markup langu...\nLanguageDesireNextYear  Which programming, scripting, and markup langu...\n...                                                                   ...\nWelcomeChange           Compared to last year, how welcome do you feel...\nAge1stCode              At what age did you write your first line of c...\nTrans                                                Are you transgender?\nNEWOtherComms           Are you a member of any other online developer...\nOrgSize                 Approximately how many people are employed by ...\n\n[61 rows x 1 columns]",
      "text/html": "<div>\n<style scoped>\n    .dataframe tbody tr th:only-of-type {\n        vertical-align: middle;\n    }\n\n    .dataframe tbody tr th {\n        vertical-align: top;\n    }\n\n    .dataframe thead th {\n        text-align: right;\n    }\n</style>\n<table border=\"1\" class=\"dataframe\">\n  <thead>\n    <tr style=\"text-align: right;\">\n      <th></th>\n      <th>QuestionText</th>\n    </tr>\n    <tr>\n      <th>Column</th>\n      <th></th>\n    </tr>\n  </thead>\n  <tbody>\n    <tr>\n      <th>NEWPurpleLink</th>\n      <td>You search for a coding solution online and th...</td>\n    </tr>\n    <tr>\n      <th>WebframeWorkedWith</th>\n      <td>Which web frameworks have you done extensive d...</td>\n    </tr>\n    <tr>\n      <th>WebframeDesireNextYear</th>\n      <td>Which web frameworks have you done extensive d...</td>\n    </tr>\n    <tr>\n      <th>LanguageWorkedWith</th>\n      <td>Which programming, scripting, and markup langu...</td>\n    </tr>\n    <tr>\n      <th>LanguageDesireNextYear</th>\n      <td>Which programming, scripting, and markup langu...</td>\n    </tr>\n    <tr>\n      <th>...</th>\n      <td>...</td>\n    </tr>\n    <tr>\n      <th>WelcomeChange</th>\n      <td>Compared to last year, how welcome do you feel...</td>\n    </tr>\n    <tr>\n      <th>Age1stCode</th>\n      <td>At what age did you write your first line of c...</td>\n    </tr>\n    <tr>\n      <th>Trans</th>\n      <td>Are you transgender?</td>\n    </tr>\n    <tr>\n      <th>NEWOtherComms</th>\n      <td>Are you a member of any other online developer...</td>\n    </tr>\n    <tr>\n      <th>OrgSize</th>\n      <td>Approximately how many people are employed by ...</td>\n    </tr>\n  </tbody>\n</table>\n<p>61 rows × 1 columns</p>\n</div>"
     },
     "metadata": {},
     "execution_count": 16
    }
   ],
   "source": [
    "schema_df"
   ]
  },
  {
   "cell_type": "code",
   "execution_count": null,
   "metadata": {},
   "outputs": [],
   "source": []
  }
 ],
 "metadata": {
  "kernelspec": {
   "display_name": "Python 3",
   "language": "python",
   "name": "python3"
  },
  "language_info": {
   "codemirror_mode": {
    "name": "ipython",
    "version": 3
   },
   "file_extension": ".py",
   "mimetype": "text/x-python",
   "name": "python",
   "nbconvert_exporter": "python",
   "pygments_lexer": "ipython3",
   "version": "3.7.6"
  },
  "toc": {
   "base_numbering": 1,
   "nav_menu": {},
   "number_sections": true,
   "sideBar": true,
   "skip_h1_title": false,
   "title_cell": "Table of Contents",
   "title_sidebar": "Contents",
   "toc_cell": false,
   "toc_position": {},
   "toc_section_display": true,
   "toc_window_display": false
  },
  "varInspector": {
   "cols": {
    "lenName": 16,
    "lenType": 16,
    "lenVar": 40
   },
   "kernels_config": {
    "python": {
     "delete_cmd_postfix": "",
     "delete_cmd_prefix": "del ",
     "library": "var_list.py",
     "varRefreshCmd": "print(var_dic_list())"
    },
    "r": {
     "delete_cmd_postfix": ") ",
     "delete_cmd_prefix": "rm(",
     "library": "var_list.r",
     "varRefreshCmd": "cat(var_dic_list()) "
    }
   },
   "types_to_exclude": [
    "module",
    "function",
    "builtin_function_or_method",
    "instance",
    "_Feature"
   ],
   "window_display": false
  }
 },
 "nbformat": 4,
 "nbformat_minor": 2
}